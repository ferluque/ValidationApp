{
 "cells": [
  {
   "cell_type": "code",
   "execution_count": 1,
   "id": "adb40378-c1d2-4f60-bc3f-d0f93aad278e",
   "metadata": {},
   "outputs": [],
   "source": [
    "import os\n",
    "import cv2\n",
    "import torch\n",
    "import pandas as pd\n",
    "import numpy as np\n",
    "import matplotlib.pyplot as plt\n",
    "\n",
    "from itertools import combinations\n",
    "from pathlib import Path\n",
    "from sklearn.preprocessing import LabelEncoder\n",
    "from sklearn.utils import resample\n",
    "from collections import Counter\n",
    "\n",
    "\n",
    "import torch\n",
    "import torchvision\n",
    "from torch.utils.data import Dataset\n",
    "import torchvision.transforms as trfms\n",
    "import torch.nn as nn\n",
    "import torchmetrics"
   ]
  },
  {
   "cell_type": "code",
   "execution_count": 60,
   "id": "695f7fe9-c1f5-4cab-ab10-391fe59ed060",
   "metadata": {},
   "outputs": [],
   "source": [
    "# CLASE DATASET\n",
    "PATH_ROOT='C:\\\\Users\\\\fl156\\\\Desktop\\\\TFG\\\\PrimerEntrenamiento'\n",
    "class HPDataset(Dataset):\n",
    "    def __init__(self,dataset_name='mpii_human_pose_v1_u12_1.csv',path_root=os.path.join(PATH_ROOT,'mpii_human_pose_v1_u12_2'),transform=None):\n",
    "        self.path_images = os.path.join(path_root, 'images')  # Ruta imágenes\n",
    "        self.path_root = path_root                  # Ruta archivos entrenamiento\n",
    "        self.transform = transform                  # Transformaciones\n",
    "        df = pd.read_csv(os.path.join(path_root, dataset_name))\n",
    "        self.file_names = [None]*len(df['image'])\n",
    "        for i, image in enumerate(df['image']):\n",
    "            index1 = image.index('([\\'')\n",
    "            index2 = image.index('\\'],')\n",
    "            self.file_names[i] = image[index1+len('([\\''):index2]\n",
    "        self.labels = np.array(df['cat_name'])\n",
    "            \n",
    "    def __len__(self):\n",
    "        return len(self.file_names)\n",
    "\n",
    "    def __getitem__(self,idx):    \n",
    "        img = self.file_names[idx]\n",
    "\n",
    "        img = cv2.imread(os.path.join(self.path_images, img))\n",
    "        label = self.labels[idx]\n",
    "        \n",
    "        if self.transform:\n",
    "            img = self.transform(img)\n",
    "\n",
    "        return img, label"
   ]
  },
  {
   "cell_type": "code",
   "execution_count": 61,
   "id": "b0bcb65a-d95e-4a8c-807f-35988a3c7a69",
   "metadata": {},
   "outputs": [],
   "source": [
    "DS = HPDataset()\n",
    "img, label = DS.__getitem__(0)"
   ]
  },
  {
   "cell_type": "code",
   "execution_count": 37,
   "id": "12363ad8-383e-461a-8656-13736dd14238",
   "metadata": {},
   "outputs": [
    {
     "name": "stdout",
     "output_type": "stream",
     "text": [
      "015601864.jpg\n"
     ]
    }
   ],
   "source": [
    "text = '(array([\\'015601864.jpg\\'], dtype=\\'<U13\\'),)'\n",
    "index1 = text.index('([\\'')\n",
    "index2 = text.index('\\'],')\n",
    "print(text[index1+len('([\\''):index2])"
   ]
  },
  {
   "cell_type": "code",
   "execution_count": null,
   "id": "c7f61498-4b35-4d1e-850b-f4238c99fd8d",
   "metadata": {},
   "outputs": [],
   "source": []
  },
  {
   "cell_type": "code",
   "execution_count": null,
   "id": "c73fcb45-c0f1-4af2-ab66-3ce14cfe5e05",
   "metadata": {},
   "outputs": [],
   "source": []
  },
  {
   "cell_type": "code",
   "execution_count": null,
   "id": "e74921ea-eb3e-4d80-ade7-12346903a90b",
   "metadata": {},
   "outputs": [],
   "source": []
  }
 ],
 "metadata": {
  "kernelspec": {
   "display_name": "Python [conda env:FINAL_PROJECT_VC]",
   "language": "python",
   "name": "conda-env-FINAL_PROJECT_VC-py"
  },
  "language_info": {
   "codemirror_mode": {
    "name": "ipython",
    "version": 3
   },
   "file_extension": ".py",
   "mimetype": "text/x-python",
   "name": "python",
   "nbconvert_exporter": "python",
   "pygments_lexer": "ipython3",
   "version": "3.10.8"
  }
 },
 "nbformat": 4,
 "nbformat_minor": 5
}
